{
 "cells": [
  {
   "cell_type": "markdown",
   "id": "5d92bfda",
   "metadata": {
    "slideshow": {
     "slide_type": "slide"
    }
   },
   "source": [
    "<div style=\"text-align: center\"> <h2> Exercícios </h2> </div>"
   ]
  },
  {
   "cell_type": "markdown",
   "id": "1af63e35",
   "metadata": {
    "slideshow": {
     "slide_type": "slide"
    }
   },
   "source": [
    "<div style=\"text-align: center\"> <h2> Responda abaixo os tipos de variáveis</h2> </div>"
   ]
  },
  {
   "cell_type": "code",
   "execution_count": 6,
   "id": "68d833fe",
   "metadata": {
    "slideshow": {
     "slide_type": "fragment"
    }
   },
   "outputs": [
    {
     "data": {
      "text/plain": [
       "(str, int, float)"
      ]
     },
     "execution_count": 6,
     "metadata": {},
     "output_type": "execute_result"
    }
   ],
   "source": [
    "mensagem = 'Oi, tudo bem?'\n",
    "n = 10\n",
    "pi = 3.14\n",
    "type(mensagem),type(n),type(pi)"
   ]
  },
  {
   "cell_type": "markdown",
   "id": "aafcb39e",
   "metadata": {
    "slideshow": {
     "slide_type": "subslide"
    }
   },
   "source": [
    "<div style=\"text-align: left\"><p><strong>Atenção</strong><br>O que acontece ao cadastrar uma variável com número na frente?</p></div>"
   ]
  },
  {
   "cell_type": "code",
   "execution_count": 26,
   "id": "e6f0737d",
   "metadata": {},
   "outputs": [
    {
     "ename": "SyntaxError",
     "evalue": "invalid syntax (2543816920.py, line 1)",
     "output_type": "error",
     "traceback": [
      "\u001b[1;36m  Input \u001b[1;32mIn [26]\u001b[1;36m\u001b[0m\n\u001b[1;33m    2a= 10\u001b[0m\n\u001b[1;37m     ^\u001b[0m\n\u001b[1;31mSyntaxError\u001b[0m\u001b[1;31m:\u001b[0m invalid syntax\n"
     ]
    }
   ],
   "source": [
    "2a= 10"
   ]
  },
  {
   "cell_type": "code",
   "execution_count": 39,
   "id": "497966c1",
   "metadata": {
    "slideshow": {
     "slide_type": "slide"
    }
   },
   "outputs": [
    {
     "data": {
      "text/html": [
       "<img src=\"https://blogdosdados.com/wp-content/uploads/2020/06/palavras-chave-em-Python.png\"/>"
      ],
      "text/plain": [
       "<IPython.core.display.Image object>"
      ]
     },
     "execution_count": 39,
     "metadata": {},
     "output_type": "execute_result"
    }
   ],
   "source": [
    "\"Para adicionar uma imagem utilize o código abaixo\"\n",
    "from IPython.display import Image\n",
    "from IPython.core.display import HTML \n",
    "Image(url= \"https://blogdosdados.com/wp-content/uploads/2020/06/palavras-chave-em-Python.png\")"
   ]
  },
  {
   "cell_type": "code",
   "execution_count": 46,
   "id": "e96a3ea2",
   "metadata": {},
   "outputs": [
    {
     "data": {
      "text/html": [
       "<img src=\"http://imagenspng.com/wp-content/uploads/emoji-joinha.png\"/>"
      ],
      "text/plain": [
       "<IPython.core.display.Image object>"
      ]
     },
     "execution_count": 46,
     "metadata": {},
     "output_type": "execute_result"
    }
   ],
   "source": [
    "from IPython.display import Image\n",
    "from IPython.core.display import HTML\n",
    "Image(url= \"http://imagenspng.com/wp-content/uploads/emoji-joinha.png\")"
   ]
  },
  {
   "cell_type": "markdown",
   "id": "ee38702d",
   "metadata": {
    "slideshow": {
     "slide_type": "slide"
    }
   },
   "source": [
    "<div style=\"text-align: center\"> <h2>Como realizar uma declaração de variável múltipla?</h2> </div>"
   ]
  },
  {
   "cell_type": "code",
   "execution_count": 22,
   "id": "bcb98079",
   "metadata": {},
   "outputs": [
    {
     "name": "stdout",
     "output_type": "stream",
     "text": [
      "maria joao fernando\n"
     ]
    }
   ],
   "source": [
    "pessoa1, pessoa2, pessoa3 = 'maria', 'joao', 'fernando'\n",
    "print(pessoa1, pessoa2, pessoa3)"
   ]
  },
  {
   "cell_type": "markdown",
   "id": "22623066",
   "metadata": {
    "slideshow": {
     "slide_type": "slide"
    }
   },
   "source": [
    "<div style=\"text-align: center\"> <h2>Teste o modo script no jupyter e em outra IDE</h2> </div>"
   ]
  },
  {
   "cell_type": "code",
   "execution_count": 12,
   "id": "d0c6afb9",
   "metadata": {
    "slideshow": {
     "slide_type": "fragment"
    }
   },
   "outputs": [
    {
     "data": {
      "text/plain": [
       "6"
      ]
     },
     "execution_count": 12,
     "metadata": {},
     "output_type": "execute_result"
    }
   ],
   "source": [
    "5\n",
    "x= 5\n",
    "x + 1"
   ]
  },
  {
   "cell_type": "markdown",
   "id": "df52c479",
   "metadata": {
    "slideshow": {
     "slide_type": "subslide"
    }
   },
   "source": [
    "<div style=\"text-align: left\">\n",
    "No script não recebe nenhuma saída. Uma expressão, por conta própria, não tem efeito visível no modo script. O Python,\n",
    "na verdade, avalia a expressão, mas não exibe o valor a menos que você especifique:.</div>"
   ]
  },
  {
   "cell_type": "code",
   "execution_count": 25,
   "id": "a7013ad2",
   "metadata": {
    "slideshow": {
     "slide_type": "fragment"
    }
   },
   "outputs": [
    {
     "name": "stdout",
     "output_type": "stream",
     "text": [
      "x + 1\n"
     ]
    }
   ],
   "source": [
    "x = 5\n",
    "print('x + 1')"
   ]
  },
  {
   "cell_type": "markdown",
   "id": "5bc35aa2",
   "metadata": {
    "slideshow": {
     "slide_type": "slide"
    }
   },
   "source": [
    "<div style=\"text-align: center\"> <h2>Operações com strings</h2> </div>"
   ]
  },
  {
   "cell_type": "code",
   "execution_count": 28,
   "id": "efc72853",
   "metadata": {
    "slideshow": {
     "slide_type": "fragment"
    }
   },
   "outputs": [],
   "source": [
    "primeiro = 'o'"
   ]
  },
  {
   "cell_type": "code",
   "execution_count": 29,
   "id": "cd49e9e6",
   "metadata": {
    "slideshow": {
     "slide_type": "fragment"
    }
   },
   "outputs": [],
   "source": [
    "segundo = 'i'\n"
   ]
  },
  {
   "cell_type": "code",
   "execution_count": 30,
   "id": "bf86f883",
   "metadata": {
    "slideshow": {
     "slide_type": "fragment"
    }
   },
   "outputs": [
    {
     "data": {
      "text/plain": [
       "'Quanto dá primeiro + segundo?'"
      ]
     },
     "execution_count": 30,
     "metadata": {},
     "output_type": "execute_result"
    }
   ],
   "source": [
    "\"\"\"Quanto dá primeiro + segundo?\"\"\"\n"
   ]
  },
  {
   "cell_type": "code",
   "execution_count": 32,
   "id": "2fd7347a",
   "metadata": {},
   "outputs": [
    {
     "data": {
      "text/plain": [
       "'oi'"
      ]
     },
     "execution_count": 32,
     "metadata": {},
     "output_type": "execute_result"
    }
   ],
   "source": [
    "primeiro + segundo"
   ]
  },
  {
   "cell_type": "markdown",
   "id": "e5a69b43",
   "metadata": {
    "slideshow": {
     "slide_type": "subslide"
    }
   },
   "source": [
    "<div style=\"text-align: left\"><p>\n",
    "Execute a multiplicação do primeiro pelo segundo</p></div>"
   ]
  },
  {
   "cell_type": "code",
   "execution_count": 17,
   "id": "74689c84",
   "metadata": {},
   "outputs": [
    {
     "ename": "TypeError",
     "evalue": "can't multiply sequence by non-int of type 'str'",
     "output_type": "error",
     "traceback": [
      "\u001b[1;31m---------------------------------------------------------------------------\u001b[0m",
      "\u001b[1;31mTypeError\u001b[0m                                 Traceback (most recent call last)",
      "Input \u001b[1;32mIn [17]\u001b[0m, in \u001b[0;36m<cell line: 3>\u001b[1;34m()\u001b[0m\n\u001b[0;32m      1\u001b[0m primeiro \u001b[38;5;241m=\u001b[39m \u001b[38;5;124m'\u001b[39m\u001b[38;5;124mo\u001b[39m\u001b[38;5;124m'\u001b[39m\n\u001b[0;32m      2\u001b[0m segundo \u001b[38;5;241m=\u001b[39m \u001b[38;5;124m'\u001b[39m\u001b[38;5;124mi\u001b[39m\u001b[38;5;124m'\u001b[39m\n\u001b[1;32m----> 3\u001b[0m \u001b[43mprimeiro\u001b[49m\u001b[43m \u001b[49m\u001b[38;5;241;43m*\u001b[39;49m\u001b[43m \u001b[49m\u001b[43msegundo\u001b[49m\n",
      "\u001b[1;31mTypeError\u001b[0m: can't multiply sequence by non-int of type 'str'"
     ]
    }
   ],
   "source": [
    "primeiro = 'o'\n",
    "segundo = 'i'\n",
    "primeiro * segundo"
   ]
  },
  {
   "cell_type": "code",
   "execution_count": 4,
   "id": "82e0ba76",
   "metadata": {},
   "outputs": [
    {
     "data": {
      "text/plain": [
       "'Conversa os números: 2 para float e 2.8 para inteiro'"
      ]
     },
     "execution_count": 4,
     "metadata": {},
     "output_type": "execute_result"
    }
   ],
   "source": [
    "\"\"\"Conversa os números: 2 para float e 2.8 para inteiro\"\"\"\n",
    "\n"
   ]
  },
  {
   "cell_type": "code",
   "execution_count": 38,
   "id": "9b7bc39b",
   "metadata": {},
   "outputs": [
    {
     "data": {
      "text/plain": [
       "2.0"
      ]
     },
     "execution_count": 38,
     "metadata": {},
     "output_type": "execute_result"
    }
   ],
   "source": [
    "float(2)"
   ]
  },
  {
   "cell_type": "code",
   "execution_count": 37,
   "id": "683c08e1",
   "metadata": {},
   "outputs": [
    {
     "data": {
      "text/plain": [
       "2"
      ]
     },
     "execution_count": 37,
     "metadata": {},
     "output_type": "execute_result"
    }
   ],
   "source": [
    "int(2.8)"
   ]
  },
  {
   "cell_type": "code",
   "execution_count": 27,
   "id": "1b4939ef",
   "metadata": {
    "slideshow": {
     "slide_type": "fragment"
    }
   },
   "outputs": [
    {
     "data": {
      "text/plain": [
       "10"
      ]
     },
     "execution_count": 27,
     "metadata": {},
     "output_type": "execute_result"
    }
   ],
   "source": [
    "# Retorna o valor absoluto de -10\n",
    "abs(-10)"
   ]
  },
  {
   "cell_type": "code",
   "execution_count": 24,
   "id": "12446a2b",
   "metadata": {
    "slideshow": {
     "slide_type": "fragment"
    }
   },
   "outputs": [
    {
     "data": {
      "text/plain": [
       "8.79"
      ]
     },
     "execution_count": 24,
     "metadata": {},
     "output_type": "execute_result"
    }
   ],
   "source": [
    "# Retorna o valor com arredondamento de 8.7890 em duas casas decimais\n",
    "round(8.7890,2)\n"
   ]
  },
  {
   "cell_type": "code",
   "execution_count": 23,
   "id": "e2e1df93",
   "metadata": {
    "slideshow": {
     "slide_type": "fragment"
    }
   },
   "outputs": [
    {
     "data": {
      "text/plain": [
       "32"
      ]
     },
     "execution_count": 23,
     "metadata": {},
     "output_type": "execute_result"
    }
   ],
   "source": [
    "# 2 elevado a 5 dá quanto?\n",
    "2**5"
   ]
  },
  {
   "cell_type": "markdown",
   "id": "f9aedd78",
   "metadata": {
    "slideshow": {
     "slide_type": "fragment"
    }
   },
   "source": [
    "Desenvolva um algoritmo e um fluxograma para um\n",
    "programa que permita com que o usuário insira quatro\n",
    "números. \n",
    "O programa deverá imprimir a média ponderada, sabendo-se que os pesos são respectivamente: 1, 2, 3 e 4"
   ]
  },
  {
   "cell_type": "markdown",
   "id": "486ea5f8",
   "metadata": {
    "slideshow": {
     "slide_type": "fragment"
    }
   },
   "source": [
    "Todo restaurante, embora por lei não possa obrigar o cliente a\n",
    "pagar, cobra 10% do valor da conta como taxa de serviço. Elabore\n",
    "um algoritmo e um fluxograma que leia o valor gasto com as\n",
    "despesas realizadas em um restaurante e exiba o valor total com a\n",
    "taxa de serviço (conforme exemplo).\n",
    "Por favor digite o valor da conta (em reais): 75\n",
    "Valor da taxa de serviço: 7.5 reais\n",
    "Valor total da conta (com taxa de serviço): 82.5 reais"
   ]
  },
  {
   "cell_type": "markdown",
   "id": "9fdca8a3",
   "metadata": {
    "slideshow": {
     "slide_type": "fragment"
    }
   },
   "source": [
    "Escreva um algoritmo e monte um fluxograma que leia as dimensões de um terreno (largura e profundidade) e calcule sua \n",
    "área."
   ]
  },
  {
   "cell_type": "markdown",
   "id": "69ddeea4",
   "metadata": {},
   "source": [
    "Faça um algoritmo e um fluxograma que leia a idade de uma pessoa expressa em anos, meses e dias e mostre-a \n",
    "expressa apenas em dias. A idade deve ser digitada considerando três variáveis inteiras.\n"
   ]
  },
  {
   "cell_type": "markdown",
   "id": "c7607374",
   "metadata": {
    "slideshow": {
     "slide_type": "fragment"
    }
   },
   "source": [
    " Uma fazenda adquiriu animais para o trabalho diário e também para produção de leite e lã. Foram \n",
    "adquiridos cavalos, vacas e ovelhas.\n",
    "A quantidade de cada animal deve ser informada no algoritmo. Após, deve ser calculado e \n",
    "apresentado as seguintes informações:\n",
    " Volume diário, semanal e mensal de leite produzido, considerando que cada vaca produz, na \n",
    "média, 3,2 litros/dia.\n",
    " Volume, em quilos, de lã produzida, estimando para isso que cada ovelha produza 2,3 quilos \n",
    "de lã a cada tosquia (retirada da lã da ovelha).\n",
    " Quantidade de ferraduras necessárias para equipar toda a tropa de cavalos"
   ]
  }
 ],
 "metadata": {
  "celltoolbar": "Slideshow",
  "kernelspec": {
   "display_name": "Python 3 (ipykernel)",
   "language": "python",
   "name": "python3"
  },
  "language_info": {
   "codemirror_mode": {
    "name": "ipython",
    "version": 3
   },
   "file_extension": ".py",
   "mimetype": "text/x-python",
   "name": "python",
   "nbconvert_exporter": "python",
   "pygments_lexer": "ipython3",
   "version": "3.9.12"
  }
 },
 "nbformat": 4,
 "nbformat_minor": 5
}
